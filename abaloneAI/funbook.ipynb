{
 "cells": [
  {
   "cell_type": "markdown",
   "metadata": {},
   "source": [
    "# funbook"
   ]
  },
  {
   "cell_type": "code",
   "execution_count": 1,
   "metadata": {},
   "outputs": [],
   "source": [
    "import numpy as np\n",
    "import scipy as sc\n",
    "\n",
    "import torch as tr\n",
    "from torch import nn\n",
    "from torch.utils.data import DataLoader\n",
    "\n",
    "import requests as req\n",
    "import os\n",
    "import ast"
   ]
  },
  {
   "cell_type": "markdown",
   "metadata": {},
   "source": [
    "### decorators"
   ]
  },
  {
   "cell_type": "code",
   "execution_count": 30,
   "metadata": {},
   "outputs": [],
   "source": [
    "import timeit\n",
    "import random\n",
    "from functools import wraps\n",
    "\n",
    "def loggg(func_in=None, *, show_name=True, show_time=True):\n",
    "    def example(f):\n",
    "        @wraps(f)\n",
    "        def func(*args, **kwargs):\n",
    "            start = timeit.timeit()\n",
    "            result = f(*args, **kwargs)\n",
    "            end = timeit.timeit()\n",
    "            print(end - start)\n",
    "            print(f.__name__)\n",
    "            print(result)\n",
    "            return result\n",
    "        return func\n",
    "\n",
    "    # This is where the \"magic\" happens.\n",
    "    if func_in is None:\n",
    "        return example\n",
    "    else:\n",
    "        return example(func_in)"
   ]
  },
  {
   "cell_type": "markdown",
   "metadata": {},
   "source": [
    "### board"
   ]
  },
  {
   "cell_type": "code",
   "execution_count": 2,
   "metadata": {},
   "outputs": [],
   "source": [
    "with open('large_variables/moves.txt', 'r') as f:\n",
    "            dic = f.read()\n",
    "        \n",
    "moves = ast.literal_eval(dic)"
   ]
  },
  {
   "cell_type": "code",
   "execution_count": 3,
   "metadata": {},
   "outputs": [],
   "source": [
    "key = ((8, 0), (7, 1), (6, 2))\n",
    "move = moves[key][1]\n",
    "board = np.array([\n",
    "                [2, 2, 2, 2, 2, 0, 0, 0, 0],\n",
    "                [2, 2, 2, 2, 2, 2, 0, 0, 0],\n",
    "                [1, 1, 2, 2, 2, 1, 1, 0, 0],\n",
    "                [1, 1, 1, 1, 1, 1, 1, 1, 0],\n",
    "                [1, 1, 1, 1, 1, 1, 1, 1, 1],\n",
    "                [1, 1, 1, 1, 1, 1, 1, 1, 0],\n",
    "                [1, 1, 3, 3, 3, 1, 1, 0, 0],\n",
    "                [3, 3, 3, 3, 3, 3, 0, 0, 0],\n",
    "                [3, 3, 3, 3, 3, 0, 0, 0, 0],\n",
    "            ],dtype='i1',)\n",
    "moves_black = {}\n",
    "moves_white = {}"
   ]
  },
  {
   "cell_type": "code",
   "execution_count": 3,
   "metadata": {},
   "outputs": [],
   "source": [
    "def r(entry):\n",
    "    return np.array((entry[0],entry[1]+1),dtype='i1')\n",
    "\n",
    "def l(entry):\n",
    "        res = (entry[0],entry[1]-1)\n",
    "        return np.array(res,dtype='i1')\n",
    "\n",
    "def ru(entry):\n",
    "    if(entry[0]<5):\n",
    "        res = (entry[0]-1,entry[1])\n",
    "    else:\n",
    "        res = (entry[0]-1,entry[1]+1)\n",
    "    return np.array(res,dtype='i1')\n",
    "\n",
    "def lu(entry):\n",
    "    if(entry[0]<5):\n",
    "        res = (entry[0]-1,entry[1]-1)\n",
    "    else:\n",
    "        res = (entry[0]-1,entry[1])\n",
    "    return np.array(res,dtype='i1')\n",
    "\n",
    "def rd(entry):\n",
    "    if(entry[0]<4):\n",
    "        res = (entry[0]+1,entry[1]+1)\n",
    "    else:\n",
    "        res = (entry[0]+1,entry[1])\n",
    "    return np.array(res,dtype='i1')\n",
    "\n",
    "def ld(entry):\n",
    "    if(entry[0]<4):\n",
    "        res = (entry[0]+1,entry[1])\n",
    "    else:\n",
    "        res = (entry[0]+1,entry[1]-1)\n",
    "    return np.array(res,dtype='i1')\n",
    "\n",
    "def rt(t):\n",
    "    if len(t) == 1:\n",
    "        return np.array((r(t[0])))\n",
    "    elif len(t) == 2:\n",
    "        return np.array((r(t[0]),r(t[1])))\n",
    "    else:\n",
    "        return np.array((r(t[0]),r(t[1]),r(t[2])))\n",
    "\n",
    "def lt(t):\n",
    "    if len(t) == 1:\n",
    "        return np.array((l(t[0])))\n",
    "    elif len(t) == 2:\n",
    "        return np.array((l(t[0]),l(t[1])))\n",
    "    else:\n",
    "        return np.array((l(t[0]),l(t[1]),l(t[2])))\n",
    "\n",
    "def rut(t):\n",
    "    if len(t) == 1:\n",
    "        return np.array((ru(t[0])))\n",
    "    elif len(t) == 2:\n",
    "        return np.array((ru(t[0]),ru(t[1])))\n",
    "    else:\n",
    "        return np.array((ru(t[0]),ru(t[1]),ru(t[2])))\n",
    "\n",
    "def lut(t):\n",
    "    if len(t) == 1:\n",
    "        return np.array((lu(t[0])))\n",
    "    elif len(t) == 2:\n",
    "        return np.array((lu(t[0]),lu(t[1])))\n",
    "    else:\n",
    "        return np.array((lu(t[0]),lu(t[1]),lu(t[2])))\n",
    "\n",
    "def rdt(t):\n",
    "    if len(t) == 1:\n",
    "        return np.array((rd(t[0])))\n",
    "    elif len(t) == 2:\n",
    "        return np.array((rd(t[0]),rd(t[1])))\n",
    "    else:\n",
    "        return np.array((rd(t[0]),rd(t[1]),rd(t[2])))\n",
    "\n",
    "def ldt(t):\n",
    "    if len(t) == 1:\n",
    "        return np.array((ld(t[0])))\n",
    "    elif len(t) == 2:\n",
    "        return np.array((ld(t[0]),ld(t[1])))\n",
    "    else:\n",
    "        return np.array((ld(t[0]),ld(t[1]),ld(t[2])))\n",
    "\n",
    "def get_dir(key,move):\n",
    "    if np.array_equal(rt(key),move):\n",
    "        return 'r'\n",
    "    elif np.array_equal(lt(key),move):\n",
    "        return 'l'\n",
    "    elif np.array_equal(rut(key),move):\n",
    "        return 'ru'\n",
    "    elif np.array_equal(lut(key),move):\n",
    "        return 'lu'\n",
    "    elif np.array_equal(rdt(key),move):\n",
    "        return 'rd'\n",
    "    elif np.array_equal(ldt(key),move):\n",
    "        return 'ld'\n",
    "    else:\n",
    "        return ''\n",
    "\n",
    "def advance(cur_pos,dir):\n",
    "    \"\"\"\n",
    "    param current position\n",
    "    param direction of movement\n",
    "    return the current position advenced by the direction of movement\n",
    "    \"\"\"\n",
    "    res = ''\n",
    "    if dir == 'r':\n",
    "        res = r(cur_pos)\n",
    "    elif dir == 'l':\n",
    "        res = l(cur_pos)\n",
    "    elif dir == 'ru':\n",
    "        res = ru(cur_pos)\n",
    "    elif dir == 'lu':\n",
    "        res = lu(cur_pos)\n",
    "    elif dir == 'rd':\n",
    "        res = rd(cur_pos)\n",
    "    elif dir == 'ld':\n",
    "        res = ld(cur_pos)\n",
    "    else:\n",
    "        raise ValueError(\"IllegalDirection\")\n",
    "    \n",
    "    if not((res[0] <= 8 and res[0] >= 0) and (res[1] <= 8 and res[1] >= 0)):\n",
    "        raise ValueError(\"IndexOutOfBoard\")\n",
    "\n",
    "    return res\n"
   ]
  },
  {
   "cell_type": "code",
   "execution_count": 4,
   "metadata": {},
   "outputs": [
    {
     "name": "stdout",
     "output_type": "stream",
     "text": [
      "s\n"
     ]
    }
   ],
   "source": [
    "try:\n",
    "    advance(0,'pos')\n",
    " ValueError:\n",
    "    print(\"s\")"
   ]
  },
  {
   "cell_type": "code",
   "execution_count": 7,
   "metadata": {},
   "outputs": [],
   "source": [
    "def move_type(key,move):\n",
    "        \"\"\"\n",
    "        param key\n",
    "        param move\n",
    "        return if the move has sideways\n",
    "        \"\"\"\n",
    "        for i in key:\n",
    "            for j in move:\n",
    "                if np.array_equal(i,j):\n",
    "                    return False\n",
    "        return True\n",
    "\n",
    "def opposite(color):\n",
    "        \"\"\"\n",
    "        param color\n",
    "        return the opposite color from the one which it is his turn\n",
    "        \"\"\"\n",
    "        if color == 2:\n",
    "            return 3\n",
    "        else:\n",
    "            return 2\n",
    "\n",
    "def in_key(key,pos):\n",
    "        \"\"\"\n",
    "        param key\n",
    "        param position on the board\n",
    "        return if the position is in the key\n",
    "        \"\"\"\n",
    "        for i in key:\n",
    "            if np.array_equal(i,pos):\n",
    "                return True\n",
    "        return False"
   ]
  },
  {
   "cell_type": "code",
   "execution_count": 8,
   "metadata": {},
   "outputs": [
    {
     "data": {
      "text/plain": [
       "True"
      ]
     },
     "execution_count": 8,
     "metadata": {},
     "output_type": "execute_result"
    }
   ],
   "source": [
    "in_key(key,[7,1])"
   ]
  },
  {
   "cell_type": "code",
   "execution_count": 9,
   "metadata": {},
   "outputs": [],
   "source": [
    "def legal_move(key,move,color):\n",
    "    if move_type(key,move):\n",
    "        for pos in move:\n",
    "            if board[pos[0]][pos[1]] != 1:\n",
    "                return False\n",
    "        return True\n",
    "    \n",
    "    else:\n",
    "        dir = get_dir(key,move)\n",
    "        cur_pos = np.copy(move[0])\n",
    "        \n",
    "        while in_key(key,cur_pos):\n",
    "            try:\n",
    "                cur_pos = advance(cur_pos,dir)\n",
    "            except ValueError:\n",
    "                break\n",
    "        count = 0\n",
    "\n",
    "        while board[cur_pos[0]][cur_pos[1]] == opposite(color):\n",
    "            count += 1\n",
    "            try:\n",
    "                cur_pos = advance(cur_pos,dir)\n",
    "            except ValueError:\n",
    "                break\n",
    "\n",
    "        return count < len(key) and board[cur_pos[0]][cur_pos[1]] != color\n"
   ]
  },
  {
   "cell_type": "code",
   "execution_count": 10,
   "metadata": {},
   "outputs": [
    {
     "data": {
      "text/plain": [
       "True"
      ]
     },
     "execution_count": 10,
     "metadata": {},
     "output_type": "execute_result"
    }
   ],
   "source": [
    "legal_move(key,move,3)"
   ]
  },
  {
   "cell_type": "code",
   "execution_count": 11,
   "metadata": {},
   "outputs": [],
   "source": [
    "def on_board(key,color):\n",
    "        \"\"\"\n",
    "        param positions on board\n",
    "        param the color of the pieces\n",
    "        return if the color is in the positions\n",
    "        \"\"\"\n",
    "        for i in key:\n",
    "            if board[i[0]][i[1]] != color:\n",
    "                return False\n",
    "        return True\n"
   ]
  },
  {
   "cell_type": "code",
   "execution_count": 12,
   "metadata": {},
   "outputs": [],
   "source": [
    "def legal_moves(color):\n",
    "    #passes over every key\n",
    "    for key in moves:\n",
    "        if on_board(key,color):\n",
    "\n",
    "            to_add = list({})\n",
    "\n",
    "            for move in moves[key]:\n",
    "                if legal_move(key,move,color):\n",
    "                    to_add.append(move)\n",
    "            \n",
    "            #checks where to add the moves\n",
    "            if len(to_add) != 0:\n",
    "                if color == 2:\n",
    "                    moves_white[key] = np.array(to_add, dtype= 'i1')\n",
    "                else:\n",
    "                    moves_black[key] = np.array(to_add, dtype= 'i1')"
   ]
  },
  {
   "cell_type": "code",
   "execution_count": 13,
   "metadata": {},
   "outputs": [],
   "source": [
    "def first(key,move):\n",
    "    \"\"\"\n",
    "    param key\n",
    "    param move\n",
    "    returns the position in key which isn't present in move\"\"\"\n",
    "    if not in_key(move,key[0]):\n",
    "        return np.array(key[0],dtype='i1')\n",
    "    return np.array(key[len(key)-1],dtype='i1')\n",
    "\n",
    "\n",
    "def move_(color,key,move):\n",
    "    if move_type(key,move):\n",
    "        for pos in key:\n",
    "            board[pos[0]][pos[1]] = 0\n",
    "        for pos in move:\n",
    "            board[pos[0]][pos[1]] = color\n",
    "    \n",
    "    else:\n",
    "        dir = get_dir(key,move)\n",
    "        cur_pos = first(key,move)\n",
    "        last_color = board[cur_pos[0]][cur_pos[1]]\n",
    "        \n",
    "        board[cur_pos[0]][cur_pos[1]] = 1\n",
    "        \n",
    "        while last_color != 1 and last_color != 0:\n",
    "            try:\n",
    "                cur_pos = advance(cur_pos,dir)\n",
    "                cur_color = board[cur_pos[0]][cur_pos[1]]\n",
    "                board[cur_pos[0]][cur_pos[1]] = last_color\n",
    "                last_color = cur_color\n",
    "            except ValueError:\n",
    "                break\n"
   ]
  },
  {
   "cell_type": "code",
   "execution_count": 14,
   "metadata": {},
   "outputs": [
    {
     "data": {
      "text/plain": [
       "(8, 0)"
      ]
     },
     "execution_count": 14,
     "metadata": {},
     "output_type": "execute_result"
    }
   ],
   "source": [
    "first(key,move)"
   ]
  },
  {
   "cell_type": "code",
   "execution_count": 15,
   "metadata": {},
   "outputs": [],
   "source": [
    "move_(3,key,move)"
   ]
  },
  {
   "cell_type": "code",
   "execution_count": 16,
   "metadata": {},
   "outputs": [
    {
     "data": {
      "text/plain": [
       "array([[2, 2, 2, 2, 2, 0, 0, 0, 0],\n",
       "       [2, 2, 2, 2, 2, 2, 0, 0, 0],\n",
       "       [1, 1, 2, 2, 2, 1, 1, 0, 0],\n",
       "       [1, 1, 1, 1, 1, 1, 1, 1, 0],\n",
       "       [1, 1, 1, 1, 1, 1, 1, 1, 1],\n",
       "       [1, 1, 1, 3, 1, 1, 1, 1, 0],\n",
       "       [1, 1, 3, 3, 3, 1, 1, 0, 0],\n",
       "       [3, 3, 3, 3, 3, 3, 0, 0, 0],\n",
       "       [1, 3, 3, 3, 3, 0, 0, 0, 0]], dtype=int8)"
      ]
     },
     "execution_count": 16,
     "metadata": {},
     "output_type": "execute_result"
    }
   ],
   "source": [
    "board"
   ]
  },
  {
   "cell_type": "markdown",
   "metadata": {},
   "source": [
    "### intrface"
   ]
  },
  {
   "cell_type": "code",
   "execution_count": 4,
   "metadata": {},
   "outputs": [],
   "source": [
    "def row_length(row):\n",
    "    \"\"\"\n",
    "    param row\n",
    "    return row length\n",
    "    \"\"\"\n",
    "    if(row<5):\n",
    "        return row+5\n",
    "    return 13-row"
   ]
  },
  {
   "cell_type": "code",
   "execution_count": 31,
   "metadata": {},
   "outputs": [],
   "source": [
    "#basic ascii\n",
    "@loggg\n",
    "def to_string(board):\n",
    "    board = board.tolist()\n",
    "    for row in range(9):\n",
    "        for pos in range(9):\n",
    "            if board[row][pos] == 1:\n",
    "                board[row][pos] = '.'\n",
    "            elif board[row][pos] == 2:\n",
    "                board[row][pos] = 'O'\n",
    "            elif board[row][pos] == 3:\n",
    "                board[row][pos] = 'X'\n",
    "            else:\n",
    "                board[row][pos] = ''\n",
    "    \n",
    "    for row in range(9):\n",
    "        length = 15-row_length(row)\n",
    "        print(\" \"*length +' '.join(board[row]))"
   ]
  },
  {
   "cell_type": "code",
   "execution_count": 32,
   "metadata": {},
   "outputs": [
    {
     "name": "stdout",
     "output_type": "stream",
     "text": [
      "          O O O O O    \n",
      "         O O O O O O   \n",
      "        . . O O O . .  \n",
      "       . . . . . . . . \n",
      "      . . . . . . . . .\n",
      "       . . . . . . . . \n",
      "        . . X X X . .  \n",
      "         X X X X X X   \n",
      "          X X X X X    \n",
      "-0.0002914590004365891\n",
      "to_string\n",
      "None\n"
     ]
    }
   ],
   "source": [
    "to_string(board)"
   ]
  },
  {
   "cell_type": "markdown",
   "metadata": {},
   "source": [
    "### AI"
   ]
  },
  {
   "cell_type": "code",
   "execution_count": null,
   "metadata": {},
   "outputs": [],
   "source": []
  },
  {
   "cell_type": "markdown",
   "metadata": {},
   "source": [
    "### general"
   ]
  }
 ],
 "metadata": {
  "kernelspec": {
   "display_name": "Python 3.10.6 64-bit",
   "language": "python",
   "name": "python3"
  },
  "language_info": {
   "codemirror_mode": {
    "name": "ipython",
    "version": 3
   },
   "file_extension": ".py",
   "mimetype": "text/x-python",
   "name": "python",
   "nbconvert_exporter": "python",
   "pygments_lexer": "ipython3",
   "version": "3.10.6"
  },
  "orig_nbformat": 4,
  "vscode": {
   "interpreter": {
    "hash": "aee8b7b246df8f9039afb4144a1f6fd8d2ca17a180786b69acc140d282b71a49"
   }
  }
 },
 "nbformat": 4,
 "nbformat_minor": 2
}
